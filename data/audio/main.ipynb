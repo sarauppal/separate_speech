{
 "cells": [
  {
   "cell_type": "code",
   "execution_count": 1,
   "metadata": {},
   "outputs": [],
   "source": [
    "import sys\n",
    "sys.path.append(\"../lib\")\n",
    "import AVHandler as avh\n",
    "import pandas as pd\n",
    "\n",
    "def m_link(youtube_id):\n",
    "    # return the youtube actual link\n",
    "    link = 'https://www.youtube.com/watch?v='+youtube_id\n",
    "    return link\n",
    "\n",
    "def m_audio(loc,name,cat,start_idx,end_idx):\n",
    "    # make concatenated audio following by the catalog from AVSpeech\n",
    "    # loc       | the location for file to store\n",
    "    # name      | name for the wav mix file\n",
    "    # cat       | the catalog with audio link and time\n",
    "    # start_idx | the starting index of the audio to download and concatenate\n",
    "    # end_idx   | the ending index of the audio to download and concatenate\n",
    "\n",
    "    for i in range(start_idx,end_idx):\n",
    "        \n",
    "        f_name = name+str(i)\n",
    "\n",
    "        link = m_link(cat.loc[i,'link'])\n",
    "\n",
    "        start_time = cat.loc[i,'start_time']\n",
    "        end_time = start_time + 3.0\n",
    "        avh.download(loc,f_name,link)\n",
    "        avh.cut(loc,f_name,start_time,end_time)"
   ]
  },
  {
   "cell_type": "code",
   "execution_count": 5,
   "metadata": {},
   "outputs": [],
   "source": [
    "path = 'C:/JNB/532s/bill9800/speech_separation/'"
   ]
  },
  {
   "cell_type": "code",
   "execution_count": 11,
   "metadata": {},
   "outputs": [
    {
     "data": {
      "text/plain": [
       "'C:\\\\JNB\\\\532s\\\\bill9800\\\\speech_separation\\\\data\\\\audio'"
      ]
     },
     "execution_count": 11,
     "metadata": {},
     "output_type": "execute_result"
    }
   ],
   "source": []
  },
  {
   "cell_type": "code",
   "execution_count": 6,
   "metadata": {},
   "outputs": [],
   "source": [
    "cat_train = pd.read_csv(path + 'data/audio/catalog/avspeech_train.csv')\n",
    "#cat_test = pd.read_csv('catalog/avspeech_test.csv')"
   ]
  },
  {
   "cell_type": "code",
   "execution_count": 7,
   "metadata": {},
   "outputs": [],
   "source": [
    "avh.mkdir('audio_train')"
   ]
  },
  {
   "cell_type": "code",
   "execution_count": 12,
   "metadata": {},
   "outputs": [],
   "source": [
    "# create 800-90000 audios data from 290K\n",
    "# avh.mkdir('audio_train')\n",
    "m_audio('C:\\\\JNB\\\\532s\\\\bill9800\\\\speech_separation\\\\data\\\\audio\\\\audio_train','audio_train',cat_train,3,4)"
   ]
  }
 ],
 "metadata": {
  "kernelspec": {
   "display_name": "Python 3",
   "language": "python",
   "name": "python3"
  },
  "language_info": {
   "codemirror_mode": {
    "name": "ipython",
    "version": 3
   },
   "file_extension": ".py",
   "mimetype": "text/x-python",
   "name": "python",
   "nbconvert_exporter": "python",
   "pygments_lexer": "ipython3",
   "version": "3.7.6"
  }
 },
 "nbformat": 4,
 "nbformat_minor": 4
}
